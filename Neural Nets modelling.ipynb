{
 "cells": [
  {
   "cell_type": "markdown",
   "metadata": {},
   "source": [
    "# Part 3: Predicting prices with KNN & Neural Networks\n",
    "***"
   ]
  },
  {
   "cell_type": "code",
   "execution_count": 120,
   "metadata": {},
   "outputs": [],
   "source": [
    "import numpy as np\n",
    "import pandas as pd\n",
    "import matplotlib.pyplot as plt\n",
    "import talib\n",
    "import seaborn as sns\n",
    "from sklearn.preprocessing import StandardScaler\n",
    "from sklearn.neighbors import KNeighborsRegressor\n",
    "from keras.models import Sequential\n",
    "from keras.layers import Dense\n",
    "from sklearn.metrics import r2_score\n",
    "import keras.losses\n",
    "import tensorflow as tf\n",
    "from keras.layers import Dropout"
   ]
  },
  {
   "cell_type": "markdown",
   "metadata": {},
   "source": [
    "***\n",
    "## 1. Inputs & EDA"
   ]
  },
  {
   "cell_type": "code",
   "execution_count": 121,
   "metadata": {},
   "outputs": [],
   "source": [
    "symbol = \"GOOG\"\n",
    "df = pd.read_csv(\"~/Dropbox/Dev/Systrading/Data/{}.csv\".format(symbol),\n",
    "                index_col=\"date\", #index on Dates\n",
    "                parse_dates = True, #get time index objects\n",
    "                dayfirst = True,) #AA/MM/DD or DD/MM/AA (International and European format)"
   ]
  },
  {
   "cell_type": "code",
   "execution_count": 122,
   "metadata": {},
   "outputs": [
    {
     "data": {
      "text/html": [
       "<div>\n",
       "<style scoped>\n",
       "    .dataframe tbody tr th:only-of-type {\n",
       "        vertical-align: middle;\n",
       "    }\n",
       "\n",
       "    .dataframe tbody tr th {\n",
       "        vertical-align: top;\n",
       "    }\n",
       "\n",
       "    .dataframe thead th {\n",
       "        text-align: right;\n",
       "    }\n",
       "</style>\n",
       "<table border=\"1\" class=\"dataframe\">\n",
       "  <thead>\n",
       "    <tr style=\"text-align: right;\">\n",
       "      <th></th>\n",
       "      <th>adjClose</th>\n",
       "      <th>adjHigh</th>\n",
       "      <th>adjLow</th>\n",
       "      <th>adjOpen</th>\n",
       "      <th>adjVolume</th>\n",
       "      <th>close</th>\n",
       "      <th>divCash</th>\n",
       "      <th>high</th>\n",
       "      <th>low</th>\n",
       "      <th>open</th>\n",
       "      <th>splitFactor</th>\n",
       "      <th>volume</th>\n",
       "    </tr>\n",
       "    <tr>\n",
       "      <th>date</th>\n",
       "      <th></th>\n",
       "      <th></th>\n",
       "      <th></th>\n",
       "      <th></th>\n",
       "      <th></th>\n",
       "      <th></th>\n",
       "      <th></th>\n",
       "      <th></th>\n",
       "      <th></th>\n",
       "      <th></th>\n",
       "      <th></th>\n",
       "      <th></th>\n",
       "    </tr>\n",
       "  </thead>\n",
       "  <tbody>\n",
       "    <tr>\n",
       "      <th>2014-03-27</th>\n",
       "      <td>558.46</td>\n",
       "      <td>568.00</td>\n",
       "      <td>552.92</td>\n",
       "      <td>568.00</td>\n",
       "      <td>13100</td>\n",
       "      <td>558.46</td>\n",
       "      <td>0</td>\n",
       "      <td>568.00</td>\n",
       "      <td>552.92</td>\n",
       "      <td>568.00</td>\n",
       "      <td>1</td>\n",
       "      <td>13100</td>\n",
       "    </tr>\n",
       "    <tr>\n",
       "      <th>2014-03-28</th>\n",
       "      <td>559.99</td>\n",
       "      <td>566.43</td>\n",
       "      <td>558.67</td>\n",
       "      <td>561.20</td>\n",
       "      <td>41100</td>\n",
       "      <td>559.99</td>\n",
       "      <td>0</td>\n",
       "      <td>566.43</td>\n",
       "      <td>558.67</td>\n",
       "      <td>561.20</td>\n",
       "      <td>1</td>\n",
       "      <td>41100</td>\n",
       "    </tr>\n",
       "    <tr>\n",
       "      <th>2014-03-31</th>\n",
       "      <td>556.97</td>\n",
       "      <td>567.00</td>\n",
       "      <td>556.93</td>\n",
       "      <td>566.89</td>\n",
       "      <td>10800</td>\n",
       "      <td>556.97</td>\n",
       "      <td>0</td>\n",
       "      <td>567.00</td>\n",
       "      <td>556.93</td>\n",
       "      <td>566.89</td>\n",
       "      <td>1</td>\n",
       "      <td>10800</td>\n",
       "    </tr>\n",
       "  </tbody>\n",
       "</table>\n",
       "</div>"
      ],
      "text/plain": [
       "            adjClose  adjHigh  adjLow  adjOpen  adjVolume   close  divCash  \\\n",
       "date                                                                         \n",
       "2014-03-27    558.46   568.00  552.92   568.00      13100  558.46        0   \n",
       "2014-03-28    559.99   566.43  558.67   561.20      41100  559.99        0   \n",
       "2014-03-31    556.97   567.00  556.93   566.89      10800  556.97        0   \n",
       "\n",
       "              high     low    open  splitFactor  volume  \n",
       "date                                                     \n",
       "2014-03-27  568.00  552.92  568.00            1   13100  \n",
       "2014-03-28  566.43  558.67  561.20            1   41100  \n",
       "2014-03-31  567.00  556.93  566.89            1   10800  "
      ]
     },
     "execution_count": 122,
     "metadata": {},
     "output_type": "execute_result"
    }
   ],
   "source": [
    "df.head(3)"
   ]
  },
  {
   "cell_type": "markdown",
   "metadata": {},
   "source": [
    "***\n",
    "## 2. Feature Engineering"
   ]
  },
  {
   "cell_type": "markdown",
   "metadata": {},
   "source": [
    "**cf Part 1 for more details on the below**"
   ]
  },
  {
   "cell_type": "code",
   "execution_count": 123,
   "metadata": {},
   "outputs": [],
   "source": [
    "df['5d_future_close'] = df['adjClose'].shift(-5)\n",
    "df['5d_close_future_pct'] = df['5d_future_close'].pct_change(5)\n",
    "df['5d_close_pct'] = df['adjClose'].pct_change(5)"
   ]
  },
  {
   "cell_type": "code",
   "execution_count": 124,
   "metadata": {},
   "outputs": [],
   "source": [
    "feature_names = ['5d_close_pct']  # a list of the feature names for later\n",
    "\n",
    "# Create moving averages and rsi for timeperiods of 14, 30, 50, and 200\n",
    "for n in [14,30,50,200]:\n",
    "\n",
    "    # Create the moving average indicator and divide by Adj_Close and add it to the datafrane\n",
    "    df['ma' + str(n)] = talib.SMA(df['adjClose'].values,\n",
    "                              timeperiod=n) / df['adjClose']\n",
    "    # Create the RSI indicator and add it to the datafrane\n",
    "    df['rsi' + str(n)] = talib.RSI(df['adjClose'].values, timeperiod=n)\n",
    "    \n",
    "    # Add rsi and moving average to the feature name list\n",
    "    feature_names = feature_names + ['ma' + str(n), 'rsi' + str(n)]"
   ]
  },
  {
   "cell_type": "code",
   "execution_count": 125,
   "metadata": {},
   "outputs": [],
   "source": [
    "new_features = ['adjVolume_1d_change', 'adjVolume_1d_change_SMA']\n",
    "feature_names.extend(new_features)\n",
    "df['adjVolume_1d_change'] = df['adjVolume'].pct_change()\n",
    "df['adjVolume_1d_change_SMA'] = talib.SMA(df['adjVolume_1d_change'].values, timeperiod=5)"
   ]
  },
  {
   "cell_type": "code",
   "execution_count": 126,
   "metadata": {},
   "outputs": [],
   "source": [
    "df = df.dropna()"
   ]
  },
  {
   "cell_type": "code",
   "execution_count": 127,
   "metadata": {},
   "outputs": [
    {
     "data": {
      "text/html": [
       "<div>\n",
       "<style scoped>\n",
       "    .dataframe tbody tr th:only-of-type {\n",
       "        vertical-align: middle;\n",
       "    }\n",
       "\n",
       "    .dataframe tbody tr th {\n",
       "        vertical-align: top;\n",
       "    }\n",
       "\n",
       "    .dataframe thead th {\n",
       "        text-align: right;\n",
       "    }\n",
       "</style>\n",
       "<table border=\"1\" class=\"dataframe\">\n",
       "  <thead>\n",
       "    <tr style=\"text-align: right;\">\n",
       "      <th></th>\n",
       "      <th>5d_close_pct</th>\n",
       "      <th>ma14</th>\n",
       "      <th>rsi14</th>\n",
       "      <th>ma30</th>\n",
       "      <th>rsi30</th>\n",
       "      <th>ma50</th>\n",
       "      <th>rsi50</th>\n",
       "      <th>ma200</th>\n",
       "      <th>rsi200</th>\n",
       "      <th>adjVolume_1d_change</th>\n",
       "      <th>adjVolume_1d_change_SMA</th>\n",
       "    </tr>\n",
       "    <tr>\n",
       "      <th>date</th>\n",
       "      <th></th>\n",
       "      <th></th>\n",
       "      <th></th>\n",
       "      <th></th>\n",
       "      <th></th>\n",
       "      <th></th>\n",
       "      <th></th>\n",
       "      <th></th>\n",
       "      <th></th>\n",
       "      <th></th>\n",
       "      <th></th>\n",
       "    </tr>\n",
       "  </thead>\n",
       "  <tbody>\n",
       "    <tr>\n",
       "      <th>2015-01-12</th>\n",
       "      <td>-0.041489</td>\n",
       "      <td>1.049719</td>\n",
       "      <td>30.751389</td>\n",
       "      <td>1.056865</td>\n",
       "      <td>37.363452</td>\n",
       "      <td>1.076069</td>\n",
       "      <td>40.743968</td>\n",
       "      <td>1.121577</td>\n",
       "      <td>47.018047</td>\n",
       "      <td>0.129195</td>\n",
       "      <td>0.097507</td>\n",
       "    </tr>\n",
       "    <tr>\n",
       "      <th>2015-01-13</th>\n",
       "      <td>-0.011515</td>\n",
       "      <td>1.037910</td>\n",
       "      <td>34.332484</td>\n",
       "      <td>1.046066</td>\n",
       "      <td>38.850271</td>\n",
       "      <td>1.066015</td>\n",
       "      <td>41.572871</td>\n",
       "      <td>1.112729</td>\n",
       "      <td>47.192372</td>\n",
       "      <td>0.019497</td>\n",
       "      <td>0.019847</td>\n",
       "    </tr>\n",
       "    <tr>\n",
       "      <th>2015-01-14</th>\n",
       "      <td>-0.000459</td>\n",
       "      <td>1.023953</td>\n",
       "      <td>38.740366</td>\n",
       "      <td>1.034079</td>\n",
       "      <td>40.730669</td>\n",
       "      <td>1.053709</td>\n",
       "      <td>42.630880</td>\n",
       "      <td>1.101749</td>\n",
       "      <td>47.417029</td>\n",
       "      <td>-0.057509</td>\n",
       "      <td>0.065925</td>\n",
       "    </tr>\n",
       "  </tbody>\n",
       "</table>\n",
       "</div>"
      ],
      "text/plain": [
       "            5d_close_pct      ma14      rsi14      ma30      rsi30      ma50  \\\n",
       "date                                                                           \n",
       "2015-01-12     -0.041489  1.049719  30.751389  1.056865  37.363452  1.076069   \n",
       "2015-01-13     -0.011515  1.037910  34.332484  1.046066  38.850271  1.066015   \n",
       "2015-01-14     -0.000459  1.023953  38.740366  1.034079  40.730669  1.053709   \n",
       "\n",
       "                rsi50     ma200     rsi200  adjVolume_1d_change  \\\n",
       "date                                                              \n",
       "2015-01-12  40.743968  1.121577  47.018047             0.129195   \n",
       "2015-01-13  41.572871  1.112729  47.192372             0.019497   \n",
       "2015-01-14  42.630880  1.101749  47.417029            -0.057509   \n",
       "\n",
       "            adjVolume_1d_change_SMA  \n",
       "date                                 \n",
       "2015-01-12                 0.097507  \n",
       "2015-01-13                 0.019847  \n",
       "2015-01-14                 0.065925  "
      ]
     },
     "execution_count": 127,
     "metadata": {},
     "output_type": "execute_result"
    }
   ],
   "source": [
    "features = df[feature_names]\n",
    "targets = df['5d_close_future_pct']\n",
    "features.head(3)"
   ]
  },
  {
   "cell_type": "markdown",
   "metadata": {},
   "source": [
    "***\n",
    "## 3. KNN model"
   ]
  },
  {
   "cell_type": "markdown",
   "metadata": {},
   "source": [
    "**Train-test split for time-series data** by **manually** creating a size for the training set that is 85% of the total number of samples"
   ]
  },
  {
   "cell_type": "code",
   "execution_count": 128,
   "metadata": {},
   "outputs": [
    {
     "data": {
      "text/plain": [
       "((842, 11), (715, 11), (127, 11))"
      ]
     },
     "execution_count": 128,
     "metadata": {},
     "output_type": "execute_result"
    }
   ],
   "source": [
    "train_size = int(0.85 * features.shape[0])\n",
    "train_features = features[:train_size]\n",
    "train_targets = targets[:train_size]\n",
    "test_features = features[train_size:]\n",
    "test_targets = targets[train_size:]\n",
    "features.shape, train_features.shape, test_features.shape"
   ]
  },
  {
   "cell_type": "markdown",
   "metadata": {},
   "source": [
    "We need **scaled data** for models like KNN & Neural Networks: we will **standardize our data**, which sets the mean to 0 and standard deviation to 1"
   ]
  },
  {
   "cell_type": "code",
   "execution_count": 129,
   "metadata": {},
   "outputs": [],
   "source": [
    "scaler = StandardScaler()\n",
    "scaled_train_features = scaler.fit_transform(train_features)\n",
    "scaled_test_features = scaler.transform(test_features)"
   ]
  },
  {
   "cell_type": "code",
   "execution_count": 130,
   "metadata": {},
   "outputs": [
    {
     "data": {
      "image/png": "[encoded data removed]",
      "text/plain": [
       "<Figure size 432x288 with 2 Axes>"
      ]
     },
     "metadata": {
      "needs_background": "light"
     },
     "output_type": "display_data"
    }
   ],
   "source": [
    "#Plot histograms of the 14-day SMA RSI before and after scaling\n",
    "f, ax = plt.subplots(nrows=2, ncols=1)\n",
    "train_features.iloc[:, 2].hist(ax=ax[0])\n",
    "ax[1].hist(scaled_train_features[:, 2])\n",
    "plt.show()"
   ]
  },
  {
   "cell_type": "markdown",
   "metadata": {},
   "source": [
    "**Create and fit various KNN model by tuning the hyperparameter n, the number of neighbors**"
   ]
  },
  {
   "cell_type": "code",
   "execution_count": 131,
   "metadata": {},
   "outputs": [
    {
     "name": "stdout",
     "output_type": "stream",
     "text": [
      "n_neighbors = 2\n",
      "train score = 0.6307750584377001\n",
      "test score = 0.029450676142418475 \n",
      "\n",
      "n_neighbors = 3\n",
      "train score = 0.4519428871389326\n",
      "test score = 0.04322578081621897 \n",
      "\n",
      "n_neighbors = 4\n",
      "train score = 0.37768505722223966\n",
      "test score = 0.06304623074628268 \n",
      "\n",
      "n_neighbors = 5\n",
      "train score = 0.3222397912933459\n",
      "test score = 0.021166366342483034 \n",
      "\n",
      "n_neighbors = 6\n",
      "train score = 0.28873849134657004\n",
      "test score = 0.040782754370599084 \n",
      "\n",
      "n_neighbors = 7\n",
      "train score = 0.26307179665411995\n",
      "test score = 0.04818258907508999 \n",
      "\n",
      "n_neighbors = 8\n",
      "train score = 0.23286731416647166\n",
      "test score = 0.03639002472304731 \n",
      "\n",
      "n_neighbors = 9\n",
      "train score = 0.23526196782342257\n",
      "test score = 0.051009062689371665 \n",
      "\n",
      "n_neighbors = 10\n",
      "train score = 0.21866121884638268\n",
      "test score = 0.04052600695325825 \n",
      "\n",
      "n_neighbors = 11\n",
      "train score = 0.20051486643650118\n",
      "test score = 0.03459922907918167 \n",
      "\n",
      "n_neighbors = 12\n",
      "train score = 0.19542350831142086\n",
      "test score = 0.041494426890322234 \n",
      "\n"
     ]
    }
   ],
   "source": [
    "for n in range(2,13):\n",
    "    # Create and fit the KNN model\n",
    "    knn = KNeighborsRegressor(n_neighbors=n)\n",
    "    \n",
    "    # Fit the model to the training data\n",
    "    knn.fit(scaled_train_features, train_targets)\n",
    "    \n",
    "    # Print number of neighbors and the score to find the best value of n\n",
    "    print(\"n_neighbors =\", n)\n",
    "    print('train score =', knn.score(scaled_train_features, train_targets))\n",
    "    print('test score =', knn.score(scaled_test_features, test_targets), \"\\n\")"
   ]
  },
  {
   "cell_type": "markdown",
   "metadata": {},
   "source": [
    "**Choose and Fit model for n = 4**"
   ]
  },
  {
   "cell_type": "code",
   "execution_count": 132,
   "metadata": {},
   "outputs": [
    {
     "data": {
      "text/plain": [
       "KNeighborsRegressor(algorithm='auto', leaf_size=30, metric='minkowski',\n",
       "          metric_params=None, n_jobs=None, n_neighbors=5, p=2,\n",
       "          weights='uniform')"
      ]
     },
     "execution_count": 132,
     "metadata": {},
     "output_type": "execute_result"
    }
   ],
   "source": [
    "# Create the model with the best-performing n_neighbors of 5\n",
    "knn = KNeighborsRegressor(n_neighbors=5)\n",
    "\n",
    "# Fit the model\n",
    "knn.fit(scaled_train_features, train_targets)"
   ]
  },
  {
   "cell_type": "code",
   "execution_count": 133,
   "metadata": {},
   "outputs": [],
   "source": [
    "# Get predictions for train and test sets\n",
    "train_predictions = knn.predict(scaled_train_features)\n",
    "test_predictions = knn.predict(scaled_test_features)"
   ]
  },
  {
   "cell_type": "markdown",
   "metadata": {},
   "source": [
    "**Assess model** - Scatter actuals vs predictions"
   ]
  },
  {
   "cell_type": "code",
   "execution_count": 134,
   "metadata": {},
   "outputs": [
    {
     "data": {
      "image/png": "[encoded data removed]",
      "text/plain": [
       "<Figure size 432x288 with 1 Axes>"
      ]
     },
     "metadata": {
      "needs_background": "light"
     },
     "output_type": "display_data"
    }
   ],
   "source": [
    "# Plot the actual vs predicted values\n",
    "plt.scatter(train_predictions, train_targets, label='train')\n",
    "plt.scatter(test_predictions, test_targets, label='test')\n",
    "\n",
    "# Plot the perfect prediction line\n",
    "xmin, xmax = plt.xlim()\n",
    "plt.plot(np.arange(xmin, xmax, 0.05), np.arange(xmin, xmax, 0.05), c='k', label='perfect predictions')\n",
    "\n",
    "plt.xlabel('predictions')\n",
    "plt.ylabel('actual')\n",
    "plt.title('KNN model for n=4')\n",
    "plt.legend()\n",
    "plt.show()"
   ]
  },
  {
   "cell_type": "markdown",
   "metadata": {},
   "source": [
    "***\n",
    "## 3. Neural Networks model"
   ]
  },
  {
   "cell_type": "markdown",
   "metadata": {},
   "source": [
    "**Create and fit a simple 3-layer net model**"
   ]
  },
  {
   "cell_type": "code",
   "execution_count": 135,
   "metadata": {},
   "outputs": [
    {
     "name": "stdout",
     "output_type": "stream",
     "text": [
      "Epoch 1/25\n",
      "715/715 [==============================] - 1s 872us/step - loss: 0.0727\n",
      "Epoch 2/25\n",
      "715/715 [==============================] - 0s 63us/step - loss: 0.0102\n",
      "Epoch 3/25\n",
      "715/715 [==============================] - 0s 58us/step - loss: 0.0049\n",
      "Epoch 4/25\n",
      "715/715 [==============================] - 0s 57us/step - loss: 0.0035\n",
      "Epoch 5/25\n",
      "715/715 [==============================] - 0s 64us/step - loss: 0.0030\n",
      "Epoch 6/25\n",
      "715/715 [==============================] - 0s 122us/step - loss: 0.0027\n",
      "Epoch 7/25\n",
      "715/715 [==============================] - 0s 55us/step - loss: 0.0023\n",
      "Epoch 8/25\n",
      "715/715 [==============================] - 0s 53us/step - loss: 0.0021\n",
      "Epoch 9/25\n",
      "715/715 [==============================] - 0s 52us/step - loss: 0.0019\n",
      "Epoch 10/25\n",
      "715/715 [==============================] - 0s 46us/step - loss: 0.0018\n",
      "Epoch 11/25\n",
      "715/715 [==============================] - 0s 55us/step - loss: 0.0017\n",
      "Epoch 12/25\n",
      "715/715 [==============================] - 0s 52us/step - loss: 0.0016\n",
      "Epoch 13/25\n",
      "715/715 [==============================] - 0s 49us/step - loss: 0.0015\n",
      "Epoch 14/25\n",
      "715/715 [==============================] - 0s 55us/step - loss: 0.0014\n",
      "Epoch 15/25\n",
      "715/715 [==============================] - 0s 79us/step - loss: 0.0013\n",
      "Epoch 16/25\n",
      "715/715 [==============================] - 0s 100us/step - loss: 0.0013\n",
      "Epoch 17/25\n",
      "715/715 [==============================] - 0s 108us/step - loss: 0.0012\n",
      "Epoch 18/25\n",
      "715/715 [==============================] - 0s 70us/step - loss: 0.0012\n",
      "Epoch 19/25\n",
      "715/715 [==============================] - 0s 49us/step - loss: 0.0012\n",
      "Epoch 20/25\n",
      "715/715 [==============================] - 0s 51us/step - loss: 0.0012\n",
      "Epoch 21/25\n",
      "715/715 [==============================] - 0s 55us/step - loss: 0.0011\n",
      "Epoch 22/25\n",
      "715/715 [==============================] - 0s 47us/step - loss: 9.7086e-04\n",
      "Epoch 23/25\n",
      "715/715 [==============================] - 0s 51us/step - loss: 9.8372e-04\n",
      "Epoch 24/25\n",
      "715/715 [==============================] - 0s 51us/step - loss: 9.8459e-04\n",
      "Epoch 25/25\n",
      "715/715 [==============================] - 0s 49us/step - loss: 9.1277e-04\n"
     ]
    }
   ],
   "source": [
    "# Create the model\n",
    "model_1 = Sequential()\n",
    "model_1.add(Dense(100, input_dim=scaled_train_features.shape[1], activation='relu'))\n",
    "model_1.add(Dense(20, activation='relu'))\n",
    "model_1.add(Dense(1, activation='linear'))\n",
    "\n",
    "# Fit the model\n",
    "model_1.compile(optimizer='adam', loss='mse')\n",
    "history = model_1.fit(scaled_train_features, train_targets, epochs=25)"
   ]
  },
  {
   "cell_type": "markdown",
   "metadata": {},
   "source": [
    "**Examine the training loss curve to make sure it's flattened out**"
   ]
  },
  {
   "cell_type": "code",
   "execution_count": 136,
   "metadata": {},
   "outputs": [
    {
     "data": {
      "image/png": "[encoded data removed]",
      "text/plain": [
       "<Figure size 432x288 with 1 Axes>"
      ]
     },
     "metadata": {
      "needs_background": "light"
     },
     "output_type": "display_data"
    }
   ],
   "source": [
    "# Plot the losses from the fit\n",
    "plt.plot(history.history['loss'])\n",
    "\n",
    "# Use the last loss as the title\n",
    "plt.title('loss:' + str(round(history.history['loss'][-1], 6)))\n",
    "plt.show()"
   ]
  },
  {
   "cell_type": "markdown",
   "metadata": {},
   "source": [
    "**Assess model** - R^2 score and Scatter actuals vs predictions"
   ]
  },
  {
   "cell_type": "code",
   "execution_count": 137,
   "metadata": {},
   "outputs": [
    {
     "data": {
      "text/plain": [
       "(0.22175947650707462, -0.6173553971782815)"
      ]
     },
     "execution_count": 137,
     "metadata": {},
     "output_type": "execute_result"
    }
   ],
   "source": [
    "# Calculate R^2 score\n",
    "train_pred1 = model_1.predict(scaled_train_features)\n",
    "test_pred1 = model_1.predict(scaled_test_features)\n",
    "r2_score(train_targets, train_pred1), r2_score(test_targets, test_pred1)"
   ]
  },
  {
   "cell_type": "code",
   "execution_count": 138,
   "metadata": {},
   "outputs": [
    {
     "data": {
      "image/png": "[encoded data removed]",
      "text/plain": [
       "<Figure size 432x288 with 1 Axes>"
      ]
     },
     "metadata": {
      "needs_background": "light"
     },
     "output_type": "display_data"
    }
   ],
   "source": [
    "# Plot predictions vs actual\n",
    "plt.scatter(train_pred1, train_targets, label='train')\n",
    "plt.scatter(test_pred1, test_targets, label='test')\n",
    "\n",
    "# Plot the perfect prediction line\n",
    "xmin, xmax = plt.xlim()\n",
    "plt.plot(np.arange(xmin, xmax, 0.05), np.arange(xmin, xmax, 0.05), c='k', label='perfect predictions')\n",
    "\n",
    "plt.xlabel('predictions')\n",
    "plt.ylabel('actual')\n",
    "plt.title('Neural Networks model')\n",
    "plt.legend()\n",
    "plt.show()"
   ]
  },
  {
   "cell_type": "markdown",
   "metadata": {},
   "source": [
    "It doesn't look too much different from our other models at this point..."
   ]
  },
  {
   "cell_type": "markdown",
   "metadata": {},
   "source": [
    "***\n",
    "## 4. Neural Networks with Custom loss function model"
   ]
  },
  {
   "cell_type": "markdown",
   "metadata": {},
   "source": [
    "Up to now, we've used the mean squared error as a loss function. <br>\n",
    "Let's now **implement a custom loss function**. It can help improve our model's performance in specific ways we choose. <br>For example, we're going to create a custom loss function with a large penalty for predicting price movements in the wrong direction. This will help our neural network learn to at least predict price movements in the correct direction."
   ]
  },
  {
   "cell_type": "code",
   "execution_count": 139,
   "metadata": {},
   "outputs": [
    {
     "data": {
      "text/plain": [
       "<function __main__.sign_penalty(y_true, y_pred)>"
      ]
     },
     "execution_count": 139,
     "metadata": {},
     "output_type": "execute_result"
    }
   ],
   "source": [
    "# Create loss function\n",
    "def sign_penalty(y_true, y_pred):\n",
    "    penalty = 100.\n",
    "    loss = tf.where(tf.less(y_true * y_pred, 0), \\\n",
    "                     penalty * tf.square(y_true - y_pred), \\\n",
    "                     tf.square(y_true - y_pred))\n",
    "\n",
    "    return tf.reduce_mean(loss, axis=-1)\n",
    "\n",
    "keras.losses.sign_penalty = sign_penalty  #enable use of loss with keras\n",
    "keras.losses.sign_penalty"
   ]
  },
  {
   "cell_type": "markdown",
   "metadata": {},
   "source": [
    "**Create and fit a neural network with our custom loss function**"
   ]
  },
  {
   "cell_type": "code",
   "execution_count": 140,
   "metadata": {},
   "outputs": [
    {
     "name": "stdout",
     "output_type": "stream",
     "text": [
      "Epoch 1/25\n",
      "715/715 [==============================] - 1s 857us/step - loss: 2.3376\n",
      "Epoch 2/25\n",
      "715/715 [==============================] - 0s 94us/step - loss: 0.5561\n",
      "Epoch 3/25\n",
      "715/715 [==============================] - 0s 70us/step - loss: 0.2619\n",
      "Epoch 4/25\n",
      "715/715 [==============================] - 0s 56us/step - loss: 0.2012\n",
      "Epoch 5/25\n",
      "715/715 [==============================] - 0s 52us/step - loss: 0.1490\n",
      "Epoch 6/25\n",
      "715/715 [==============================] - 0s 69us/step - loss: 0.1315\n",
      "Epoch 7/25\n",
      "715/715 [==============================] - 0s 78us/step - loss: 0.1060\n",
      "Epoch 8/25\n",
      "715/715 [==============================] - 0s 52us/step - loss: 0.0968\n",
      "Epoch 9/25\n",
      "715/715 [==============================] - 0s 51us/step - loss: 0.0872\n",
      "Epoch 10/25\n",
      "715/715 [==============================] - 0s 52us/step - loss: 0.0689\n",
      "Epoch 11/25\n",
      "715/715 [==============================] - 0s 51us/step - loss: 0.0806\n",
      "Epoch 12/25\n",
      "715/715 [==============================] - 0s 51us/step - loss: 0.0722\n",
      "Epoch 13/25\n",
      "715/715 [==============================] - 0s 55us/step - loss: 0.0645\n",
      "Epoch 14/25\n",
      "715/715 [==============================] - 0s 51us/step - loss: 0.0622\n",
      "Epoch 15/25\n",
      "715/715 [==============================] - 0s 47us/step - loss: 0.0641\n",
      "Epoch 16/25\n",
      "715/715 [==============================] - 0s 48us/step - loss: 0.0442\n",
      "Epoch 17/25\n",
      "715/715 [==============================] - 0s 51us/step - loss: 0.0417\n",
      "Epoch 18/25\n",
      "715/715 [==============================] - 0s 53us/step - loss: 0.0458\n",
      "Epoch 19/25\n",
      "715/715 [==============================] - 0s 51us/step - loss: 0.0371\n",
      "Epoch 20/25\n",
      "715/715 [==============================] - 0s 50us/step - loss: 0.0366\n",
      "Epoch 21/25\n",
      "715/715 [==============================] - 0s 57us/step - loss: 0.0367\n",
      "Epoch 22/25\n",
      "715/715 [==============================] - 0s 52us/step - loss: 0.0280\n",
      "Epoch 23/25\n",
      "715/715 [==============================] - 0s 50us/step - loss: 0.0313\n",
      "Epoch 24/25\n",
      "715/715 [==============================] - 0s 52us/step - loss: 0.0242\n",
      "Epoch 25/25\n",
      "715/715 [==============================] - 0s 72us/step - loss: 0.0339\n"
     ]
    }
   ],
   "source": [
    "# Create the model\n",
    "model_2 = Sequential()\n",
    "model_2.add(Dense(100, input_dim=scaled_train_features.shape[1], activation='relu'))\n",
    "model_2.add(Dense(20, activation='relu'))\n",
    "model_2.add(Dense(1, activation='linear'))\n",
    "\n",
    "# Fit the model with our custom 'sign_penalty' loss function\n",
    "model_2.compile(optimizer='adam', loss=sign_penalty)\n",
    "history = model_2.fit(scaled_train_features, train_targets, epochs=25)"
   ]
  },
  {
   "cell_type": "code",
   "execution_count": 141,
   "metadata": {},
   "outputs": [
    {
     "data": {
      "image/png": "[encoded data removed]",
      "text/plain": [
       "<Figure size 432x288 with 1 Axes>"
      ]
     },
     "metadata": {
      "needs_background": "light"
     },
     "output_type": "display_data"
    }
   ],
   "source": [
    "# Plot the losses from the fit\n",
    "plt.plot(history.history['loss'])\n",
    "plt.title('loss:' + str(round(history.history['loss'][-1], 6)))\n",
    "plt.show()"
   ]
  },
  {
   "cell_type": "markdown",
   "metadata": {},
   "source": [
    "**Assess model** - R^2 score and Scatter actuals vs predictions"
   ]
  },
  {
   "cell_type": "code",
   "execution_count": 142,
   "metadata": {},
   "outputs": [
    {
     "data": {
      "text/plain": [
       "(-0.09728091320482068, -0.4380151171968243)"
      ]
     },
     "execution_count": 142,
     "metadata": {},
     "output_type": "execute_result"
    }
   ],
   "source": [
    "# Evaluate R^2 scores\n",
    "train_pred2 = model_2.predict(scaled_train_features)\n",
    "test_pred2 = model_2.predict(scaled_test_features)\n",
    "r2_score(train_targets, train_pred2), r2_score(test_targets, test_pred2)"
   ]
  },
  {
   "cell_type": "code",
   "execution_count": 143,
   "metadata": {},
   "outputs": [
    {
     "data": {
      "image/png": "[encoded data removed]",
      "text/plain": [
       "<Figure size 432x288 with 1 Axes>"
      ]
     },
     "metadata": {
      "needs_background": "light"
     },
     "output_type": "display_data"
    }
   ],
   "source": [
    "# Scatter the predictions vs actual -- this one is interesting!\n",
    "plt.scatter(train_pred2, train_targets, label='train')\n",
    "plt.scatter(test_pred2, test_targets, label='test')  # plot test set\n",
    "\n",
    "# Plot the perfect prediction line\n",
    "xmin, xmax = plt.xlim()\n",
    "plt.plot(np.arange(xmin, xmax, 0.01), np.arange(xmin, xmax, 0.01), c='k', label='perfect predictions')\n",
    "\n",
    "plt.xlabel('predictions')\n",
    "plt.ylabel('actual')\n",
    "plt.title('Neural Networks model with custom loss function')\n",
    "plt.legend(); plt.show()"
   ]
  },
  {
   "cell_type": "markdown",
   "metadata": {},
   "source": [
    "***\n",
    "##  5. Neural Networks model with dropout"
   ]
  },
  {
   "cell_type": "markdown",
   "metadata": {},
   "source": [
    "A common problem with neural networks is they tend to overfit to training data. <br>\n",
    "We can work towards **preventing overfitting by using dropout**. This randomly drops some neurons during the training phase, which helps prevent the net from fitting noise in the training data. keras has a Dropout layer that we can use to accomplish this. We need to set the dropout rate, or fraction of connections dropped during training time. This is set as a decimal between 0 and 1 in the Dropout() layer. <br>\n",
    "<br>\n",
    "We're going to go back to the mean squared error loss function for this model."
   ]
  },
  {
   "cell_type": "code",
   "execution_count": 144,
   "metadata": {},
   "outputs": [
    {
     "name": "stdout",
     "output_type": "stream",
     "text": [
      "Epoch 1/25\n",
      "715/715 [==============================] - 1s 875us/step - loss: 0.0420\n",
      "Epoch 2/25\n",
      "715/715 [==============================] - 0s 62us/step - loss: 0.0210\n",
      "Epoch 3/25\n",
      "715/715 [==============================] - 0s 52us/step - loss: 0.0127\n",
      "Epoch 4/25\n",
      "715/715 [==============================] - 0s 52us/step - loss: 0.0079\n",
      "Epoch 5/25\n",
      "715/715 [==============================] - 0s 58us/step - loss: 0.0054\n",
      "Epoch 6/25\n",
      "715/715 [==============================] - 0s 55us/step - loss: 0.0047\n",
      "Epoch 7/25\n",
      "715/715 [==============================] - 0s 65us/step - loss: 0.0037\n",
      "Epoch 8/25\n",
      "715/715 [==============================] - 0s 57us/step - loss: 0.0031\n",
      "Epoch 9/25\n",
      "715/715 [==============================] - 0s 57us/step - loss: 0.0021\n",
      "Epoch 10/25\n",
      "715/715 [==============================] - 0s 53us/step - loss: 0.0020\n",
      "Epoch 11/25\n",
      "715/715 [==============================] - 0s 57us/step - loss: 0.0018\n",
      "Epoch 12/25\n",
      "715/715 [==============================] - 0s 54us/step - loss: 0.0023\n",
      "Epoch 13/25\n",
      "715/715 [==============================] - 0s 56us/step - loss: 0.0018\n",
      "Epoch 14/25\n",
      "715/715 [==============================] - 0s 55us/step - loss: 0.0016\n",
      "Epoch 15/25\n",
      "715/715 [==============================] - 0s 52us/step - loss: 0.0014\n",
      "Epoch 16/25\n",
      "715/715 [==============================] - 0s 56us/step - loss: 0.0015\n",
      "Epoch 17/25\n",
      "715/715 [==============================] - 0s 54us/step - loss: 0.0013\n",
      "Epoch 18/25\n",
      "715/715 [==============================] - 0s 66us/step - loss: 0.0013\n",
      "Epoch 19/25\n",
      "715/715 [==============================] - 0s 54us/step - loss: 0.0013\n",
      "Epoch 20/25\n",
      "715/715 [==============================] - 0s 59us/step - loss: 0.0013\n",
      "Epoch 21/25\n",
      "715/715 [==============================] - 0s 53us/step - loss: 0.0013\n",
      "Epoch 22/25\n",
      "715/715 [==============================] - 0s 57us/step - loss: 0.0012\n",
      "Epoch 23/25\n",
      "715/715 [==============================] - 0s 55us/step - loss: 0.0011\n",
      "Epoch 24/25\n",
      "715/715 [==============================] - 0s 54us/step - loss: 0.0012\n",
      "Epoch 25/25\n",
      "715/715 [==============================] - 0s 57us/step - loss: 0.0012\n"
     ]
    }
   ],
   "source": [
    "# Create model with dropout\n",
    "model_3 = Sequential()\n",
    "model_3.add(Dense(100, input_dim=scaled_train_features.shape[1], activation='relu'))\n",
    "model_3.add(Dropout(0.2))\n",
    "model_3.add(Dense(20, activation='relu'))\n",
    "model_3.add(Dense(1, activation='linear'))\n",
    "\n",
    "# Fit model with mean squared error loss function\n",
    "model_3.compile(optimizer='adam', loss='mse')\n",
    "history = model_3.fit(scaled_train_features, train_targets, epochs=25)"
   ]
  },
  {
   "cell_type": "code",
   "execution_count": 145,
   "metadata": {},
   "outputs": [
    {
     "data": {
      "image/png": "[encoded data removed]",
      "text/plain": [
       "<Figure size 432x288 with 1 Axes>"
      ]
     },
     "metadata": {
      "needs_background": "light"
     },
     "output_type": "display_data"
    }
   ],
   "source": [
    "# Plot the losses from the fit\n",
    "plt.plot(history.history['loss'])\n",
    "plt.title('loss:' + str(round(history.history['loss'][-1], 6)))\n",
    "plt.show()"
   ]
  },
  {
   "cell_type": "markdown",
   "metadata": {},
   "source": [
    "**Assess model** - R^2 score and Scatter actuals vs predictions"
   ]
  },
  {
   "cell_type": "code",
   "execution_count": 146,
   "metadata": {},
   "outputs": [
    {
     "data": {
      "text/plain": [
       "(0.06930706405207876, 0.10539168770508711)"
      ]
     },
     "execution_count": 146,
     "metadata": {},
     "output_type": "execute_result"
    }
   ],
   "source": [
    "# Evaluate R^2 scores\n",
    "train_pred3 = model_3.predict(scaled_train_features)\n",
    "test_pred3 = model_3.predict(scaled_test_features)\n",
    "r2_score(train_targets, train_pred3), r2_score(test_targets, test_pred3)"
   ]
  },
  {
   "cell_type": "code",
   "execution_count": 147,
   "metadata": {},
   "outputs": [
    {
     "data": {
      "image/png": "[encoded data removed]",
      "text/plain": [
       "<Figure size 432x288 with 1 Axes>"
      ]
     },
     "metadata": {
      "needs_background": "light"
     },
     "output_type": "display_data"
    }
   ],
   "source": [
    "# Scatter the predictions vs actual -- this one is interesting!\n",
    "plt.scatter(train_pred3, train_targets, label='train')\n",
    "plt.scatter(test_pred3, test_targets, label='test')  # plot test set\n",
    "\n",
    "# Plot the perfect prediction line\n",
    "xmin, xmax = plt.xlim()\n",
    "plt.plot(np.arange(xmin, xmax, 0.01), np.arange(xmin, xmax, 0.01), c='k', label='perfect predictions')\n",
    "\n",
    "plt.xlabel('predictions')\n",
    "plt.ylabel('actual')\n",
    "plt.title('Neural Networks model with dropout')\n",
    "plt.legend(); plt.show()"
   ]
  },
  {
   "cell_type": "markdown",
   "metadata": {},
   "source": [
    "***\n",
    "## 6. Ensembling our three Neural Networks models"
   ]
  },
  {
   "cell_type": "markdown",
   "metadata": {},
   "source": [
    "**Horizontally stack predictions** from the 3 neural net models and **take the average across rows**"
   ]
  },
  {
   "cell_type": "code",
   "execution_count": 148,
   "metadata": {},
   "outputs": [
    {
     "data": {
      "text/plain": [
       "array([ 0.00826533,  0.00383919,  0.00315901, -0.00406626, -0.01775392],\n",
       "      dtype=float32)"
      ]
     },
     "execution_count": 148,
     "metadata": {},
     "output_type": "execute_result"
    }
   ],
   "source": [
    "train_preds = np.mean(np.hstack((train_pred1, train_pred2, train_pred3)), axis=1)\n",
    "test_preds = np.mean(np.hstack((test_pred1, test_pred2, test_pred3)), axis=1)\n",
    "test_preds[-5:]"
   ]
  },
  {
   "cell_type": "markdown",
   "metadata": {},
   "source": [
    "**Assess model** - R^2 score and Scatter actuals vs predictions"
   ]
  },
  {
   "cell_type": "code",
   "execution_count": 149,
   "metadata": {},
   "outputs": [
    {
     "data": {
      "text/plain": [
       "(0.36374862913451844, 0.12490358442069704)"
      ]
     },
     "execution_count": 149,
     "metadata": {},
     "output_type": "execute_result"
    }
   ],
   "source": [
    "# Evaluate the R^2 scores\n",
    "r2_score(train_targets, train_preds),r2_score(test_targets, test_preds)"
   ]
  },
  {
   "cell_type": "code",
   "execution_count": 150,
   "metadata": {},
   "outputs": [
    {
     "data": {
      "image/png": "[encoded data removed]",
      "text/plain": [
       "<Figure size 432x288 with 1 Axes>"
      ]
     },
     "metadata": {
      "needs_background": "light"
     },
     "output_type": "display_data"
    }
   ],
   "source": [
    "# Scatter the predictions vs actual\n",
    "plt.scatter(train_preds, train_targets, label='train')\n",
    "plt.scatter(test_preds, test_targets, label='test')\n",
    "\n",
    "# Plot the perfect prediction line\n",
    "xmin, xmax = plt.xlim()\n",
    "plt.plot(np.arange(xmin, xmax, 0.01), np.arange(xmin, xmax, 0.01), c='k', label='perfect predictions')\n",
    "\n",
    "plt.xlabel('predictions')\n",
    "plt.ylabel('actual')\n",
    "plt.legend(); plt.show()"
   ]
  }
 ],
 "metadata": {
  "kernelspec": {
   "display_name": "Python 3",
   "language": "python",
   "name": "python3"
  },
  "language_info": {
   "codemirror_mode": {
    "name": "ipython",
    "version": 3
   },
   "file_extension": ".py",
   "mimetype": "text/x-python",
   "name": "python",
   "nbconvert_exporter": "python",
   "pygments_lexer": "ipython3",
   "version": "3.7.1"
  }
 },
 "nbformat": 4,
 "nbformat_minor": 2
}
